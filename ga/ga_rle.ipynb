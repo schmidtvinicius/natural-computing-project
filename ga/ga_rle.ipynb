{
 "cells": [
  {
   "cell_type": "code",
   "execution_count": 1,
   "metadata": {},
   "outputs": [],
   "source": [
    "import numpy as np\n",
    "import pandas as pd\n",
    "\n",
    "from ga_rle import GeneticAlgorithmRLE"
   ]
  },
  {
   "cell_type": "code",
   "execution_count": 2,
   "metadata": {},
   "outputs": [],
   "source": [
    "%reload_ext autoreload\n",
    "%autoreload 2"
   ]
  },
  {
   "cell_type": "code",
   "execution_count": 3,
   "metadata": {},
   "outputs": [],
   "source": [
    "dataset = pd.read_csv('../treated_data.csv')"
   ]
  },
  {
   "cell_type": "code",
   "execution_count": 21,
   "metadata": {},
   "outputs": [],
   "source": [
    "ga = GeneticAlgorithmRLE(\n",
    "    population_size=100,\n",
    "    num_generations=100,\n",
    "    mutation_rate=0.07,\n",
    "    crossover_rate=0.8,\n",
    "    dataset=dataset,\n",
    ")"
   ]
  },
  {
   "cell_type": "code",
   "execution_count": 5,
   "metadata": {},
   "outputs": [],
   "source": [
    "pop = ga.initialize_population()"
   ]
  },
  {
   "cell_type": "code",
   "execution_count": 6,
   "metadata": {},
   "outputs": [
    {
     "name": "stdout",
     "output_type": "stream",
     "text": [
      "error 1\n"
     ]
    },
    {
     "data": {
      "text/plain": [
       "inf"
      ]
     },
     "execution_count": 6,
     "metadata": {},
     "output_type": "execute_result"
    }
   ],
   "source": [
    "ga.calculate_fitness(pop[0])"
   ]
  },
  {
   "cell_type": "code",
   "execution_count": 7,
   "metadata": {},
   "outputs": [
    {
     "name": "stdout",
     "output_type": "stream",
     "text": [
      "error 1\n",
      "error 1\n",
      "error 1\n",
      "error 1\n",
      "error 1\n",
      "error 1\n",
      "error 1\n",
      "error 1\n",
      "error 1\n",
      "error 1\n",
      "error 1\n",
      "error 1\n",
      "error 1\n",
      "error 1\n",
      "error 1\n",
      "error 1\n",
      "error 1\n",
      "error 1\n",
      "error 1\n",
      "error 1\n",
      "error 1\n",
      "error 1\n",
      "error 1\n",
      "error 1\n",
      "error 1\n",
      "error 1\n",
      "error 1\n",
      "error 1\n",
      "error 1\n",
      "error 1\n",
      "error 1\n",
      "error 1\n",
      "error 1\n",
      "error 1\n",
      "error 1\n",
      "error 1\n",
      "error 1\n",
      "error 1\n",
      "error 1\n",
      "error 1\n",
      "error 1\n",
      "error 1\n",
      "error 1\n",
      "error 1\n",
      "error 1\n",
      "error 1\n",
      "error 1\n",
      "error 1\n",
      "error 1\n",
      "error 1\n",
      "error 1\n",
      "error 1\n",
      "error 1\n",
      "error 1\n",
      "error 1\n",
      "error 1\n",
      "error 1\n",
      "error 1\n",
      "error 1\n",
      "error 1\n",
      "error 1\n",
      "error 1\n",
      "error 1\n",
      "error 1\n",
      "error 1\n",
      "error 1\n",
      "error 1\n",
      "error 1\n",
      "error 1\n",
      "error 1\n",
      "error 1\n",
      "error 1\n",
      "error 1\n",
      "error 1\n",
      "error 1\n",
      "error 1\n",
      "error 1\n",
      "error 1\n",
      "error 1\n",
      "error 1\n",
      "error 1\n",
      "error 1\n",
      "error 1\n",
      "error 1\n",
      "error 1\n",
      "error 1\n",
      "error 1\n",
      "error 1\n",
      "error 1\n",
      "error 1\n",
      "error 1\n"
     ]
    }
   ],
   "source": [
    "for p in pop:\n",
    "    if ga.calculate_fitness(p) != np.inf:\n",
    "        print(p)\n",
    "        break"
   ]
  },
  {
   "cell_type": "code",
   "execution_count": 14,
   "metadata": {},
   "outputs": [
    {
     "data": {
      "text/plain": [
       "([('PHL', 1),\n",
       "  ('LAX', 8),\n",
       "  ('LGA', 33),\n",
       "  ('ORD', 41),\n",
       "  ('IAD', 45),\n",
       "  ('JFK', 47),\n",
       "  ('DEN', 48),\n",
       "  ('DTW', 48),\n",
       "  ('CLT', 48),\n",
       "  ('ATL', 48),\n",
       "  ('MIA', 48),\n",
       "  ('BOS', 48),\n",
       "  ('OAK', 48),\n",
       "  ('EWR', 48),\n",
       "  ('SFO', 48),\n",
       "  ('DFW', 48)],\n",
       " [('EWR', 11),\n",
       "  ('DFW', 38),\n",
       "  ('IAD', 42),\n",
       "  ('JFK', 48),\n",
       "  ('LGA', 48),\n",
       "  ('ORD', 48),\n",
       "  ('CLT', 48),\n",
       "  ('PHL', 48),\n",
       "  ('LAX', 48),\n",
       "  ('MIA', 48),\n",
       "  ('DEN', 48),\n",
       "  ('DTW', 48),\n",
       "  ('OAK', 48),\n",
       "  ('ATL', 48),\n",
       "  ('SFO', 48),\n",
       "  ('BOS', 48)],\n",
       " 16,\n",
       " 16)"
      ]
     },
     "execution_count": 14,
     "metadata": {},
     "output_type": "execute_result"
    }
   ],
   "source": [
    "child1, child2 = ga.crossover(pop[0], pop[1])\n",
    "child1, child2, len(child1), len(child2)"
   ]
  },
  {
   "cell_type": "code",
   "execution_count": 27,
   "metadata": {},
   "outputs": [
    {
     "name": "stdout",
     "output_type": "stream",
     "text": [
      "mutation ('LGA', 29)\n",
      "mutation ('DTW', 48)\n"
     ]
    },
    {
     "data": {
      "text/plain": [
       "[('PHL', 1),\n",
       " ('LAX', 8),\n",
       " ('LGA', 29),\n",
       " ('ORD', 41),\n",
       " ('IAD', 41),\n",
       " ('JFK', 47),\n",
       " ('DEN', 48),\n",
       " ('DTW', 48),\n",
       " ('CLT', 48),\n",
       " ('ATL', 48),\n",
       " ('MIA', 48),\n",
       " ('BOS', 48),\n",
       " ('OAK', 48),\n",
       " ('EWR', 48),\n",
       " ('SFO', 48),\n",
       " ('DFW', 48)]"
      ]
     },
     "execution_count": 27,
     "metadata": {},
     "output_type": "execute_result"
    }
   ],
   "source": [
    "ga.mutate(child1)"
   ]
  },
  {
   "cell_type": "code",
   "execution_count": null,
   "metadata": {},
   "outputs": [],
   "source": []
  }
 ],
 "metadata": {
  "kernelspec": {
   "display_name": "Python 3",
   "language": "python",
   "name": "python3"
  },
  "language_info": {
   "codemirror_mode": {
    "name": "ipython",
    "version": 3
   },
   "file_extension": ".py",
   "mimetype": "text/x-python",
   "name": "python",
   "nbconvert_exporter": "python",
   "pygments_lexer": "ipython3",
   "version": "3.10.0"
  }
 },
 "nbformat": 4,
 "nbformat_minor": 2
}
